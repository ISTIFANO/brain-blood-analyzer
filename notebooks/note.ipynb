{
 "cells": [
  {
   "cell_type": "code",
   "execution_count": 1,
   "id": "0fa1f68e",
   "metadata": {},
   "outputs": [
    {
     "name": "stdout",
     "output_type": "stream",
     "text": [
      "hello\n"
     ]
    }
   ],
   "source": [
    "print(\"hello\")"
   ]
  },
  {
   "cell_type": "code",
   "execution_count": null,
   "id": "ee4b6a52",
   "metadata": {},
   "outputs": [],
   "source": [
    "import torch\n",
    "from torchvision import datasets, transforms\n"
   ]
  },
  {
   "cell_type": "code",
   "execution_count": null,
   "id": "f7ae4342",
   "metadata": {},
   "outputs": [],
   "source": [
    "def add_noise(tensor, mean=0., std=0.05):\n",
    "    noise = torch.randn(tensor.size()) * std + mean\n",
    "    return torch.clamp(tensor + noise, 0., 1.)"
   ]
  },
  {
   "cell_type": "code",
   "execution_count": null,
   "id": "ccdebd19",
   "metadata": {},
   "outputs": [],
   "source": [
    "from torchvision import datasets, transforms\n",
    "\n",
    "\n",
    "train_transforms = transforms.Compose([\n",
    "    transforms.Resize((224, 224)),                \n",
    "    transforms.RandomHorizontalFlip(p=0.5),       \n",
    "    transforms.RandomApply([transforms.GaussianBlur(kernel_size=3)], p=0.3),  \n",
    "            transforms.ToTensor(),                         \n",
    "            transforms.Lambda(lambda x: add_noise(x, 0., 0.05)),  # ajouter bruit\n",
    "    transforms.Normalize(mean=[0.5, 0.5, 0.5],\n",
    "                         std=[0.5, 0.5, 0.5])      # normalisation\n",
    "])"
   ]
  }
 ],
 "metadata": {
  "kernelspec": {
   "display_name": "Python 3",
   "language": "python",
   "name": "python3"
  },
  "language_info": {
   "codemirror_mode": {
    "name": "ipython",
    "version": 3
   },
   "file_extension": ".py",
   "mimetype": "text/x-python",
   "name": "python",
   "nbconvert_exporter": "python",
   "pygments_lexer": "ipython3",
   "version": "3.13.7"
  }
 },
 "nbformat": 4,
 "nbformat_minor": 5
}
